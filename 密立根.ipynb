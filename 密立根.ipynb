{
 "cells": [
  {
   "cell_type": "code",
   "execution_count": 9,
   "metadata": {},
   "outputs": [
    {
     "name": "stdout",
     "output_type": "stream",
     "text": [
      "q=[[1.24108882e-17 1.23123424e-17 1.23449567e-17]\n",
      " [1.60115834e-17 1.63440557e-17 1.61754967e-17]\n",
      " [1.04444498e-17 1.04921094e-17 1.04444498e-17]\n",
      " [1.41088051e-17 1.43994674e-17 1.42159463e-17]\n",
      " [1.05363799e-17 1.06586290e-17 1.06338763e-17]]\n",
      "n=[[ 77  77  77]\n",
      " [100 102 101]\n",
      " [ 65  65  65]\n",
      " [ 88  90  89]\n",
      " [ 66  67  66]]\n",
      "e`=[[1.61180366e-19 1.59900551e-19 1.60324113e-19]\n",
      " [1.60115834e-19 1.60235840e-19 1.60153433e-19]\n",
      " [1.60683843e-19 1.61417068e-19 1.60683843e-19]\n",
      " [1.60327331e-19 1.59994082e-19 1.59729734e-19]\n",
      " [1.59642120e-19 1.59084015e-19 1.61119337e-19]]\n"
     ]
    }
   ],
   "source": [
    "import numpy as np\n",
    "u=np.array([221,196,238,187,237]).reshape([5,1])        #reshape(x,y)---x行y列。小于1则按1算\n",
    "t=np.array([[21,21.3,21.2],[16.5,15.9,16.2],[25,24.8,25],[22.5,21.7,22.2],[24.8,24.3,24.4]],dtype=float)\n",
    "q=1.43e-14/(u*(t*(1+0.0196*t**0.5)**3)**0.5)\n",
    "print(\"q=\"+str(q))\n",
    "n=q/1.602e-19+0.5\n",
    "n=n.astype(np.int)      #类型转换----float/int\n",
    "print(\"n=\"+str(n))\n",
    "e_=q/n\n",
    "print(\"e`=\"+str(e_))"
   ]
  },
  {
   "cell_type": "code",
   "execution_count": null,
   "metadata": {},
   "outputs": [],
   "source": []
  }
 ],
 "metadata": {
  "kernelspec": {
   "display_name": "Python 3",
   "language": "python",
   "name": "python3"
  },
  "language_info": {
   "codemirror_mode": {
    "name": "ipython",
    "version": 3
   },
   "file_extension": ".py",
   "mimetype": "text/x-python",
   "name": "python",
   "nbconvert_exporter": "python",
   "pygments_lexer": "ipython3",
   "version": "3.7.0"
  }
 },
 "nbformat": 4,
 "nbformat_minor": 2
}
